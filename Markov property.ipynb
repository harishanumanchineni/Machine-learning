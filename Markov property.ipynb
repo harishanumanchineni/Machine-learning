{
 "cells": [
  {
   "cell_type": "code",
   "execution_count": 2,
   "metadata": {},
   "outputs": [
    {
     "name": "stdout",
     "output_type": "stream",
     "text": [
      "Requirement already up-to-date: hmmlearn in c:\\users\\haris\\appdata\\roaming\\python\\python37\\site-packages (0.2.3)\n",
      "Requirement already satisfied, skipping upgrade: scikit-learn>=0.16 in c:\\users\\haris\\anaconda3\\lib\\site-packages (from hmmlearn) (0.21.3)\n",
      "Requirement already satisfied, skipping upgrade: numpy>=1.10 in c:\\users\\haris\\anaconda3\\lib\\site-packages (from hmmlearn) (1.16.5)\n",
      "Requirement already satisfied, skipping upgrade: scipy>=0.15 in c:\\users\\haris\\anaconda3\\lib\\site-packages (from hmmlearn) (1.3.1)\n",
      "Requirement already satisfied, skipping upgrade: joblib>=0.11 in c:\\users\\haris\\anaconda3\\lib\\site-packages (from scikit-learn>=0.16->hmmlearn) (0.13.2)\n",
      "Note: you may need to restart the kernel to use updated packages.\n"
     ]
    }
   ],
   "source": [
    "pip install --upgrade --user hmmlearn"
   ]
  },
  {
   "cell_type": "code",
   "execution_count": 4,
   "metadata": {},
   "outputs": [],
   "source": [
    "import numpy as np\n",
    "import pandas as pd\n",
    "from random import seed,random\n",
    "from random import random\n",
    "from hmmlearn import hmm\n"
   ]
  },
  {
   "cell_type": "code",
   "execution_count": 5,
   "metadata": {},
   "outputs": [],
   "source": [
    "def get_multinorm(multi):\n",
    "    r=np.random.uniform(0.0, 1.0)\n",
    "    CS=np.cumsum(multi)\n",
    "    CS=np.insert(CS,0,0)\n",
    "    m=(np.where(CS<r))[0]\n",
    "    nextState=m[len(m)-1]\n",
    "    return nextState"
   ]
  },
  {
   "cell_type": "code",
   "execution_count": 6,
   "metadata": {},
   "outputs": [],
   "source": [
    "P = np.array([[0.4, 0.3, 0.3],\n",
    "              [0.2, 0.6, 0.2],\n",
    "              [0.1, 0.1, 0.8]])\n",
    "\n",
    "state=np.array([[0.5,0.2,0.3]])\n",
    "\n",
    "currentState=0\n",
    "stateHist=state\n",
    "dfStateHist=pd.DataFrame(state)\n",
    "distr_hist = [[0,0,0]]\n",
    "\n",
    "for x in range(1000):\n",
    "    currIn=np.ma.masked_values((P[currentState]), 0.0)\n",
    "    nextState=get_multinorm(currIn)\n",
    "    state[0,nextState]=1.0\n",
    "    stateHist=np.append(stateHist,state,axis=0)\n",
    "    currentState=nextState\n",
    "    totals=np.sum(stateHist,axis=0)\n",
    "    gt=np.sum(totals)\n",
    "    distrib=totals/gt\n",
    "    distrib=np.reshape(distrib,(1,3))\n",
    "    distr_hist=np.append(distr_hist,distrib,axis=0)\n",
    "\n",
    "dfDistrHist = pd.DataFrame(distr_hist)"
   ]
  },
  {
   "cell_type": "code",
   "execution_count": 7,
   "metadata": {},
   "outputs": [
    {
     "data": {
      "text/html": [
       "<div>\n",
       "<style scoped>\n",
       "    .dataframe tbody tr th:only-of-type {\n",
       "        vertical-align: middle;\n",
       "    }\n",
       "\n",
       "    .dataframe tbody tr th {\n",
       "        vertical-align: top;\n",
       "    }\n",
       "\n",
       "    .dataframe thead th {\n",
       "        text-align: right;\n",
       "    }\n",
       "</style>\n",
       "<table border=\"1\" class=\"dataframe\">\n",
       "  <thead>\n",
       "    <tr style=\"text-align: right;\">\n",
       "      <th></th>\n",
       "      <th>0</th>\n",
       "      <th>1</th>\n",
       "      <th>2</th>\n",
       "    </tr>\n",
       "  </thead>\n",
       "  <tbody>\n",
       "    <tr>\n",
       "      <td>0</td>\n",
       "      <td>0.000000</td>\n",
       "      <td>0.000000</td>\n",
       "      <td>0.000000</td>\n",
       "    </tr>\n",
       "    <tr>\n",
       "      <td>1</td>\n",
       "      <td>0.277778</td>\n",
       "      <td>0.555556</td>\n",
       "      <td>0.166667</td>\n",
       "    </tr>\n",
       "    <tr>\n",
       "      <td>2</td>\n",
       "      <td>0.277778</td>\n",
       "      <td>0.555556</td>\n",
       "      <td>0.166667</td>\n",
       "    </tr>\n",
       "    <tr>\n",
       "      <td>3</td>\n",
       "      <td>0.324675</td>\n",
       "      <td>0.519481</td>\n",
       "      <td>0.155844</td>\n",
       "    </tr>\n",
       "    <tr>\n",
       "      <td>4</td>\n",
       "      <td>0.350000</td>\n",
       "      <td>0.500000</td>\n",
       "      <td>0.150000</td>\n",
       "    </tr>\n",
       "    <tr>\n",
       "      <td>...</td>\n",
       "      <td>...</td>\n",
       "      <td>...</td>\n",
       "      <td>...</td>\n",
       "    </tr>\n",
       "    <tr>\n",
       "      <td>996</td>\n",
       "      <td>0.333859</td>\n",
       "      <td>0.334362</td>\n",
       "      <td>0.331779</td>\n",
       "    </tr>\n",
       "    <tr>\n",
       "      <td>997</td>\n",
       "      <td>0.333858</td>\n",
       "      <td>0.334361</td>\n",
       "      <td>0.331781</td>\n",
       "    </tr>\n",
       "    <tr>\n",
       "      <td>998</td>\n",
       "      <td>0.333858</td>\n",
       "      <td>0.334360</td>\n",
       "      <td>0.331783</td>\n",
       "    </tr>\n",
       "    <tr>\n",
       "      <td>999</td>\n",
       "      <td>0.333857</td>\n",
       "      <td>0.334359</td>\n",
       "      <td>0.331784</td>\n",
       "    </tr>\n",
       "    <tr>\n",
       "      <td>1000</td>\n",
       "      <td>0.333857</td>\n",
       "      <td>0.334358</td>\n",
       "      <td>0.331786</td>\n",
       "    </tr>\n",
       "  </tbody>\n",
       "</table>\n",
       "<p>1001 rows × 3 columns</p>\n",
       "</div>"
      ],
      "text/plain": [
       "             0         1         2\n",
       "0     0.000000  0.000000  0.000000\n",
       "1     0.277778  0.555556  0.166667\n",
       "2     0.277778  0.555556  0.166667\n",
       "3     0.324675  0.519481  0.155844\n",
       "4     0.350000  0.500000  0.150000\n",
       "...        ...       ...       ...\n",
       "996   0.333859  0.334362  0.331779\n",
       "997   0.333858  0.334361  0.331781\n",
       "998   0.333858  0.334360  0.331783\n",
       "999   0.333857  0.334359  0.331784\n",
       "1000  0.333857  0.334358  0.331786\n",
       "\n",
       "[1001 rows x 3 columns]"
      ]
     },
     "execution_count": 7,
     "metadata": {},
     "output_type": "execute_result"
    }
   ],
   "source": [
    "dfDistrHist"
   ]
  },
  {
   "cell_type": "code",
   "execution_count": 8,
   "metadata": {},
   "outputs": [],
   "source": [
    "model = hmm.GaussianHMM(n_components=3, covariance_type=\"full\")\n",
    "model.startprob_ = np.array([0.5,0.2,0.3])\n",
    "model.transmat_ = np.array([[0.4, 0.3, 0.3],\n",
    "                            [0.2, 0.6, 0.2],\n",
    "                            [0.1, 0.1, 0.8]])\n",
    "model.means_ = np.array([[0.0, 0.0], [3.0, -3.0], [5.0, 10.0]])\n",
    "model.covars_ = np.tile(np.identity(2), (3, 1, 1))\n",
    "X, Z = model.sample(1000)\n"
   ]
  },
  {
   "cell_type": "code",
   "execution_count": 9,
   "metadata": {},
   "outputs": [
    {
     "data": {
      "text/plain": [
       "(array([[ 0.785883  , -0.80471983],\n",
       "        [-0.16168513,  1.2253538 ],\n",
       "        [ 4.36027134,  8.17539291],\n",
       "        ...,\n",
       "        [ 3.32565395, -3.66560754],\n",
       "        [ 3.40451488, -3.39370882],\n",
       "        [-1.41090817,  0.4149104 ]]),\n",
       " array([0, 0, 2, 2, 2, 1, 2, 0, 1, 2, 2, 2, 2, 2, 2, 2, 2, 2, 2, 2, 1, 1,\n",
       "        1, 1, 1, 2, 0, 0, 2, 2, 2, 0, 0, 2, 1, 0, 2, 2, 2, 2, 2, 2, 1, 1,\n",
       "        2, 2, 0, 2, 2, 2, 2, 2, 2, 2, 2, 2, 2, 2, 2, 2, 2, 2, 1, 1, 1, 1,\n",
       "        2, 2, 2, 2, 2, 0, 0, 1, 0, 0, 1, 1, 0, 2, 2, 2, 1, 0, 0, 1, 0, 0,\n",
       "        0, 2, 2, 2, 0, 0, 2, 2, 2, 2, 2, 2, 2, 2, 2, 2, 2, 2, 2, 2, 2, 2,\n",
       "        2, 2, 2, 1, 2, 2, 2, 1, 1, 1, 1, 2, 1, 1, 1, 1, 1, 2, 2, 1, 0, 0,\n",
       "        1, 1, 1, 1, 1, 1, 1, 2, 2, 2, 2, 2, 2, 2, 2, 2, 0, 0, 1, 2, 2, 2,\n",
       "        2, 2, 1, 2, 2, 2, 2, 2, 2, 0, 2, 2, 2, 1, 0, 0, 1, 2, 2, 2, 1, 1,\n",
       "        2, 2, 2, 2, 2, 2, 2, 0, 2, 2, 2, 2, 2, 2, 2, 2, 2, 2, 2, 1, 0, 0,\n",
       "        0, 2, 2, 2, 2, 2, 2, 2, 2, 2, 2, 1, 0, 1, 2, 2, 0, 1, 1, 1, 1, 2,\n",
       "        2, 2, 2, 2, 2, 2, 2, 2, 2, 2, 2, 1, 1, 0, 0, 0, 1, 1, 2, 2, 2, 2,\n",
       "        0, 0, 0, 1, 1, 1, 1, 1, 1, 0, 0, 1, 1, 2, 2, 1, 0, 1, 1, 1, 1, 1,\n",
       "        2, 2, 2, 2, 2, 2, 0, 2, 0, 1, 1, 1, 1, 0, 0, 1, 1, 1, 1, 2, 2, 2,\n",
       "        2, 2, 2, 2, 2, 2, 2, 2, 2, 2, 2, 2, 1, 2, 2, 2, 2, 2, 2, 2, 2, 2,\n",
       "        2, 2, 2, 2, 1, 2, 2, 2, 2, 2, 2, 2, 2, 2, 2, 0, 1, 2, 0, 0, 0, 0,\n",
       "        2, 2, 2, 2, 2, 2, 2, 2, 2, 2, 2, 2, 2, 2, 2, 1, 1, 1, 0, 2, 2, 0,\n",
       "        0, 0, 0, 0, 0, 2, 2, 0, 1, 2, 2, 1, 1, 1, 1, 1, 0, 1, 0, 1, 0, 0,\n",
       "        1, 0, 2, 2, 2, 2, 2, 2, 2, 0, 1, 0, 2, 1, 0, 2, 2, 2, 2, 2, 2, 2,\n",
       "        2, 1, 1, 1, 1, 1, 1, 0, 1, 2, 2, 1, 1, 1, 2, 2, 0, 0, 0, 0, 0, 0,\n",
       "        2, 2, 2, 0, 2, 2, 2, 2, 0, 2, 2, 2, 2, 2, 2, 2, 2, 2, 2, 1, 1, 1,\n",
       "        1, 2, 2, 2, 1, 1, 0, 2, 2, 2, 2, 2, 2, 2, 0, 0, 1, 1, 2, 0, 2, 2,\n",
       "        2, 2, 2, 2, 1, 2, 2, 2, 2, 2, 1, 0, 0, 0, 0, 0, 2, 2, 2, 2, 2, 2,\n",
       "        2, 2, 2, 2, 2, 2, 0, 1, 1, 0, 1, 1, 2, 2, 2, 0, 2, 1, 1, 2, 2, 2,\n",
       "        0, 1, 2, 2, 1, 1, 1, 1, 1, 2, 2, 2, 2, 2, 2, 2, 2, 2, 2, 2, 2, 2,\n",
       "        0, 0, 2, 0, 1, 1, 1, 1, 1, 1, 2, 0, 2, 2, 2, 2, 0, 2, 2, 2, 2, 2,\n",
       "        2, 2, 2, 1, 1, 1, 1, 1, 1, 1, 1, 2, 2, 2, 2, 2, 2, 2, 2, 2, 1, 1,\n",
       "        2, 2, 2, 2, 2, 0, 0, 0, 0, 1, 1, 0, 2, 2, 1, 2, 1, 2, 0, 2, 2, 2,\n",
       "        2, 1, 2, 2, 0, 0, 1, 1, 1, 1, 1, 2, 2, 1, 0, 0, 2, 2, 2, 2, 2, 2,\n",
       "        0, 0, 1, 1, 1, 0, 0, 2, 2, 2, 2, 2, 2, 2, 0, 2, 2, 1, 1, 0, 2, 2,\n",
       "        2, 0, 2, 2, 2, 2, 2, 1, 1, 1, 2, 2, 2, 2, 2, 2, 2, 2, 2, 2, 2, 2,\n",
       "        2, 2, 2, 0, 1, 1, 0, 2, 2, 2, 2, 2, 1, 2, 0, 2, 2, 1, 1, 1, 0, 2,\n",
       "        2, 2, 2, 1, 1, 1, 2, 2, 2, 2, 1, 0, 0, 2, 2, 1, 2, 2, 2, 2, 1, 1,\n",
       "        2, 0, 2, 2, 1, 1, 1, 2, 0, 1, 1, 2, 2, 2, 2, 2, 2, 2, 0, 2, 2, 2,\n",
       "        2, 2, 2, 1, 0, 1, 1, 1, 0, 1, 2, 0, 0, 2, 2, 2, 0, 0, 1, 1, 1, 1,\n",
       "        0, 2, 2, 2, 2, 2, 2, 2, 0, 0, 0, 2, 2, 2, 2, 2, 2, 1, 0, 2, 2, 2,\n",
       "        2, 2, 2, 2, 2, 2, 2, 2, 2, 2, 2, 2, 2, 2, 2, 2, 2, 2, 2, 1, 0, 2,\n",
       "        0, 0, 1, 2, 2, 1, 1, 0, 2, 2, 0, 1, 1, 1, 2, 1, 1, 1, 1, 1, 1, 1,\n",
       "        1, 1, 1, 1, 1, 2, 2, 2, 2, 2, 2, 2, 2, 2, 2, 2, 2, 2, 2, 2, 2, 2,\n",
       "        2, 2, 2, 0, 1, 2, 2, 2, 1, 2, 2, 2, 2, 2, 2, 2, 2, 2, 2, 2, 2, 2,\n",
       "        2, 2, 2, 2, 2, 2, 2, 2, 2, 2, 2, 2, 2, 2, 2, 2, 2, 1, 1, 1, 1, 1,\n",
       "        2, 2, 2, 0, 2, 0, 2, 1, 1, 2, 2, 2, 2, 0, 2, 0, 0, 1, 0, 0, 2, 2,\n",
       "        2, 2, 2, 2, 2, 2, 2, 0, 1, 0, 0, 0, 1, 1, 1, 1, 1, 2, 2, 0, 2, 2,\n",
       "        2, 1, 0, 0, 2, 2, 2, 2, 2, 2, 0, 1, 1, 1, 0, 2, 2, 2, 2, 2, 2, 2,\n",
       "        1, 1, 1, 1, 1, 1, 0, 1, 1, 2, 2, 2, 2, 2, 2, 1, 1, 1, 0, 1, 2, 2,\n",
       "        2, 2, 2, 2, 2, 2, 2, 2, 2, 2, 1, 0, 0, 2, 2, 2, 2, 2, 2, 2, 2, 0,\n",
       "        0, 1, 1, 1, 0, 0, 1, 1, 1, 0]))"
      ]
     },
     "execution_count": 9,
     "metadata": {},
     "output_type": "execute_result"
    }
   ],
   "source": [
    "X,Z"
   ]
  },
  {
   "cell_type": "markdown",
   "metadata": {},
   "source": [
    "# Using the data generated estimate P,A and compare with the parameters used togenerate the data"
   ]
  },
  {
   "cell_type": "code",
   "execution_count": 15,
   "metadata": {},
   "outputs": [
    {
     "name": "stdout",
     "output_type": "stream",
     "text": [
      "Estimated transition matrix A\n",
      "0.38 0.28 0.34\n",
      "0.19 0.58 0.23\n",
      "0.09 0.10 0.81\n"
     ]
    }
   ],
   "source": [
    "def transition_matrix(transitions):\n",
    "    n = 1+ max(transitions) #number of states\n",
    "\n",
    "    M = [[0]*n for _ in range(n)]\n",
    "\n",
    "    for (i,j) in zip(transitions,transitions[1:]):\n",
    "        M[i][j] += 1\n",
    "\n",
    "    #now convert to probabilities:\n",
    "    for row in M:\n",
    "        s = sum(row)\n",
    "        if s > 0:\n",
    "            row[:] = [f/s for f in row]\n",
    "    return M\n",
    "\n",
    "#test:\n",
    "\n",
    "t = Z\n",
    "m = transition_matrix(t)\n",
    "print(\"Estimated transition matrix A\")\n",
    "for row in m: print(' '.join('{0:.2f}'.format(x) for x in row))"
   ]
  },
  {
   "cell_type": "markdown",
   "metadata": {},
   "source": [
    "From the above the estimated transition matrix is similar to given transition matrix "
   ]
  },
  {
   "cell_type": "code",
   "execution_count": 42,
   "metadata": {},
   "outputs": [
    {
     "name": "stdout",
     "output_type": "stream",
     "text": [
      "PI\n"
     ]
    },
    {
     "data": {
      "text/plain": [
       "[0.48, 0.22, 0.3]"
      ]
     },
     "execution_count": 42,
     "metadata": {},
     "output_type": "execute_result"
    }
   ],
   "source": [
    "count_s1 = 0\n",
    "count_s2 = 0\n",
    "count_s3 = 0\n",
    "i = 0\n",
    "while i < 1000:\n",
    "    if (Z[i] == 0):\n",
    "        count_s1+=1\n",
    "    elif (Z[i] == 1):\n",
    "        count_s2+=1\n",
    "    else:\n",
    "        count_s3+=1\n",
    "    i = i + 3\n",
    "print(\"PI\")\n",
    "PI = [count_s1/100,count_s2/100,count_s3/100]\n",
    "PI\n",
    "\n",
    "\n",
    "\n"
   ]
  },
  {
   "cell_type": "markdown",
   "metadata": {},
   "source": [
    "# References: \n",
    "    \n",
    "https://stackoverflow.com/questions/46657221/generating-markov-transition-matrix-in-python"
   ]
  },
  {
   "cell_type": "markdown",
   "metadata": {},
   "source": [
    "https://towardsdatascience.com/markov-chain-analysis-and-simulation-using-python-4507cee0b06e"
   ]
  }
 ],
 "metadata": {
  "kernelspec": {
   "display_name": "Python 3",
   "language": "python",
   "name": "python3"
  },
  "language_info": {
   "codemirror_mode": {
    "name": "ipython",
    "version": 3
   },
   "file_extension": ".py",
   "mimetype": "text/x-python",
   "name": "python",
   "nbconvert_exporter": "python",
   "pygments_lexer": "ipython3",
   "version": "3.7.6"
  }
 },
 "nbformat": 4,
 "nbformat_minor": 2
}
