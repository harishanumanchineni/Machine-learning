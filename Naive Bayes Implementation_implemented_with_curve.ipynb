{
 "cells": [
  {
   "cell_type": "code",
   "execution_count": 175,
   "metadata": {},
   "outputs": [],
   "source": [
    "import pandas as pd\n",
    "import numpy as np\n",
    "from sklearn.datasets import make_classification\n",
    "import math\n",
    "from sklearn.naive_bayes import GaussianNB\n",
    "from sklearn.model_selection import train_test_split\n",
    "from sklearn.metrics import accuracy_score\n",
    "\n",
    "import matplotlib.pyplot as plt\n",
    "from sklearn.utils import shuffle\n"
   ]
  },
  {
   "cell_type": "code",
   "execution_count": 176,
   "metadata": {},
   "outputs": [],
   "source": [
    "train_data=pd.read_csv(\"train_set.csv\")\n",
    "test_data=pd.read_csv(\"test_set.csv\")"
   ]
  },
  {
   "cell_type": "code",
   "execution_count": 177,
   "metadata": {},
   "outputs": [],
   "source": [
    "for col in train_data.columns:\n",
    "    if type(train_data[col][0])==str:\n",
    "        values=set(train_data[col])\n",
    "        dict_={}\n",
    "        for i,val in enumerate(values):\n",
    "            dict_[val]=i\n",
    "        train_data[col].replace(dict_, inplace=True)\n",
    "        test_data[col].replace(dict_, inplace=True)"
   ]
  },
  {
   "cell_type": "code",
   "execution_count": 178,
   "metadata": {},
   "outputs": [
    {
     "data": {
      "text/html": [
       "<div>\n",
       "<style scoped>\n",
       "    .dataframe tbody tr th:only-of-type {\n",
       "        vertical-align: middle;\n",
       "    }\n",
       "\n",
       "    .dataframe tbody tr th {\n",
       "        vertical-align: top;\n",
       "    }\n",
       "\n",
       "    .dataframe thead th {\n",
       "        text-align: right;\n",
       "    }\n",
       "</style>\n",
       "<table border=\"1\" class=\"dataframe\">\n",
       "  <thead>\n",
       "    <tr style=\"text-align: right;\">\n",
       "      <th></th>\n",
       "      <th>lymphatics</th>\n",
       "      <th>block_of_affere</th>\n",
       "      <th>bl_of_lymph_c</th>\n",
       "      <th>bl_of_lymph_s</th>\n",
       "      <th>by_pass</th>\n",
       "      <th>extravasates</th>\n",
       "      <th>regeneration_of</th>\n",
       "      <th>early_uptake_in</th>\n",
       "      <th>lym_nodes_dimin</th>\n",
       "      <th>lym_nodes_enlar</th>\n",
       "      <th>changes_in_lym</th>\n",
       "      <th>defect_in_node</th>\n",
       "      <th>changes_in_node</th>\n",
       "      <th>changes_in_stru</th>\n",
       "      <th>special_forms</th>\n",
       "      <th>dislocation_of</th>\n",
       "      <th>exclusion_of_no</th>\n",
       "      <th>no_of_nodes_in</th>\n",
       "      <th>class</th>\n",
       "    </tr>\n",
       "  </thead>\n",
       "  <tbody>\n",
       "    <tr>\n",
       "      <td>0</td>\n",
       "      <td>0</td>\n",
       "      <td>0</td>\n",
       "      <td>1</td>\n",
       "      <td>1</td>\n",
       "      <td>1</td>\n",
       "      <td>1</td>\n",
       "      <td>1</td>\n",
       "      <td>0</td>\n",
       "      <td>1</td>\n",
       "      <td>4</td>\n",
       "      <td>0</td>\n",
       "      <td>0</td>\n",
       "      <td>1</td>\n",
       "      <td>7</td>\n",
       "      <td>1</td>\n",
       "      <td>0</td>\n",
       "      <td>0</td>\n",
       "      <td>5</td>\n",
       "      <td>0</td>\n",
       "    </tr>\n",
       "    <tr>\n",
       "      <td>1</td>\n",
       "      <td>2</td>\n",
       "      <td>0</td>\n",
       "      <td>1</td>\n",
       "      <td>1</td>\n",
       "      <td>0</td>\n",
       "      <td>0</td>\n",
       "      <td>1</td>\n",
       "      <td>0</td>\n",
       "      <td>1</td>\n",
       "      <td>3</td>\n",
       "      <td>0</td>\n",
       "      <td>0</td>\n",
       "      <td>1</td>\n",
       "      <td>5</td>\n",
       "      <td>1</td>\n",
       "      <td>0</td>\n",
       "      <td>0</td>\n",
       "      <td>3</td>\n",
       "      <td>0</td>\n",
       "    </tr>\n",
       "    <tr>\n",
       "      <td>2</td>\n",
       "      <td>0</td>\n",
       "      <td>1</td>\n",
       "      <td>1</td>\n",
       "      <td>1</td>\n",
       "      <td>1</td>\n",
       "      <td>0</td>\n",
       "      <td>1</td>\n",
       "      <td>0</td>\n",
       "      <td>1</td>\n",
       "      <td>2</td>\n",
       "      <td>1</td>\n",
       "      <td>2</td>\n",
       "      <td>2</td>\n",
       "      <td>2</td>\n",
       "      <td>1</td>\n",
       "      <td>1</td>\n",
       "      <td>0</td>\n",
       "      <td>1</td>\n",
       "      <td>0</td>\n",
       "    </tr>\n",
       "    <tr>\n",
       "      <td>3</td>\n",
       "      <td>0</td>\n",
       "      <td>1</td>\n",
       "      <td>1</td>\n",
       "      <td>1</td>\n",
       "      <td>1</td>\n",
       "      <td>1</td>\n",
       "      <td>1</td>\n",
       "      <td>0</td>\n",
       "      <td>1</td>\n",
       "      <td>2</td>\n",
       "      <td>1</td>\n",
       "      <td>0</td>\n",
       "      <td>1</td>\n",
       "      <td>1</td>\n",
       "      <td>1</td>\n",
       "      <td>0</td>\n",
       "      <td>0</td>\n",
       "      <td>3</td>\n",
       "      <td>0</td>\n",
       "    </tr>\n",
       "    <tr>\n",
       "      <td>4</td>\n",
       "      <td>1</td>\n",
       "      <td>1</td>\n",
       "      <td>1</td>\n",
       "      <td>1</td>\n",
       "      <td>1</td>\n",
       "      <td>1</td>\n",
       "      <td>1</td>\n",
       "      <td>1</td>\n",
       "      <td>1</td>\n",
       "      <td>2</td>\n",
       "      <td>1</td>\n",
       "      <td>0</td>\n",
       "      <td>1</td>\n",
       "      <td>1</td>\n",
       "      <td>2</td>\n",
       "      <td>0</td>\n",
       "      <td>0</td>\n",
       "      <td>1</td>\n",
       "      <td>0</td>\n",
       "    </tr>\n",
       "  </tbody>\n",
       "</table>\n",
       "</div>"
      ],
      "text/plain": [
       "   lymphatics  block_of_affere  bl_of_lymph_c  bl_of_lymph_s  by_pass  \\\n",
       "0           0                0              1              1        1   \n",
       "1           2                0              1              1        0   \n",
       "2           0                1              1              1        1   \n",
       "3           0                1              1              1        1   \n",
       "4           1                1              1              1        1   \n",
       "\n",
       "   extravasates  regeneration_of  early_uptake_in  lym_nodes_dimin  \\\n",
       "0             1                1                0                1   \n",
       "1             0                1                0                1   \n",
       "2             0                1                0                1   \n",
       "3             1                1                0                1   \n",
       "4             1                1                1                1   \n",
       "\n",
       "   lym_nodes_enlar  changes_in_lym  defect_in_node  changes_in_node  \\\n",
       "0                4               0               0                1   \n",
       "1                3               0               0                1   \n",
       "2                2               1               2                2   \n",
       "3                2               1               0                1   \n",
       "4                2               1               0                1   \n",
       "\n",
       "   changes_in_stru  special_forms  dislocation_of  exclusion_of_no  \\\n",
       "0                7              1               0                0   \n",
       "1                5              1               0                0   \n",
       "2                2              1               1                0   \n",
       "3                1              1               0                0   \n",
       "4                1              2               0                0   \n",
       "\n",
       "   no_of_nodes_in  class  \n",
       "0               5      0  \n",
       "1               3      0  \n",
       "2               1      0  \n",
       "3               3      0  \n",
       "4               1      0  "
      ]
     },
     "execution_count": 178,
     "metadata": {},
     "output_type": "execute_result"
    }
   ],
   "source": [
    "train_data.head()"
   ]
  },
  {
   "cell_type": "code",
   "execution_count": 179,
   "metadata": {},
   "outputs": [],
   "source": [
    "train_data = shuffle(train_data)"
   ]
  },
  {
   "cell_type": "code",
   "execution_count": 180,
   "metadata": {},
   "outputs": [],
   "source": [
    "X_train = np.array(train_data.drop('class',1))\n",
    "Y_train = np.array(train_data[\"class\"])\n",
    "\n",
    "X_test = np.array(test_data.drop('class',1))\n",
    "Y_test = np.array(test_data[\"class\"])"
   ]
  },
  {
   "cell_type": "code",
   "execution_count": 181,
   "metadata": {},
   "outputs": [],
   "source": [
    "## Implementation"
   ]
  },
  {
   "cell_type": "code",
   "execution_count": 182,
   "metadata": {},
   "outputs": [],
   "source": [
    "class NaiveBayes:\n",
    "    def fit(self, X, y):\n",
    "        self.X, self.y = X, y\n",
    "        self.classes = np.unique(y)\n",
    "        self.parameters = []\n",
    "        for i, c in enumerate(self.classes):\n",
    "            X_where_c = X[np.where(y == c)]\n",
    "            self.parameters.append([])\n",
    "            for col in X_where_c.T:\n",
    "                parameters = {\"mean\": col.mean(), \"var\": col.var()}\n",
    "                self.parameters[i].append(parameters)\n",
    "\n",
    "    def get_likelihood(self, mean, var, x):\n",
    "        eps = 1e-4 \n",
    "        coeff = 1.0 / math.sqrt(2.0 * math.pi * var + eps)\n",
    "        exponent = math.exp(-(math.pow(x - mean, 2) / (2 * var + eps)))\n",
    "        return coeff * exponent\n",
    "\n",
    "    def classify(self, sample):\n",
    "        posterior_probs = []\n",
    "        for i, c in enumerate(self.classes):\n",
    "            posterior = np.mean(self.y == c)\n",
    "            for feature_value, params in zip(sample, self.parameters[i]):\n",
    "                likelihood = self.get_likelihood(params[\"mean\"], params[\"var\"], feature_value)\n",
    "                posterior *= likelihood\n",
    "            posterior_probs.append(posterior)\n",
    "        return self.classes[np.argmax(posterior_probs)],posterior_probs[self.classes[np.argmax(posterior_probs)]]\n",
    "\n",
    "    def predict(self, X,Y):\n",
    "        y_pred = [self.classify(sample) for sample in X]\n",
    "        y_pred = pd.DataFrame(y_pred, columns=['Pred', 'Probability'])\n",
    "        y_pred[\"GT\"] = Y\n",
    "        return y_pred\n",
    "        "
   ]
  },
  {
   "cell_type": "code",
   "execution_count": 183,
   "metadata": {},
   "outputs": [],
   "source": [
    "nb=NaiveBayes()\n",
    "nb.fit(np.array(X_train),np.array(Y_train))"
   ]
  },
  {
   "cell_type": "code",
   "execution_count": 187,
   "metadata": {},
   "outputs": [],
   "source": [
    "test_pred = nb.predict(X_test,Y_test)"
   ]
  },
  {
   "cell_type": "code",
   "execution_count": 188,
   "metadata": {},
   "outputs": [
    {
     "name": "stdout",
     "output_type": "stream",
     "text": [
      "Accuracy on test data 0.8571428571428571\n"
     ]
    }
   ],
   "source": [
    "print(\"Accuracy on test data\",accuracy_score(test_pred[\"Pred\"],test_pred[\"GT\"]))"
   ]
  },
  {
   "cell_type": "markdown",
   "metadata": {},
   "source": [
    "### Split into 4 and check on test"
   ]
  },
  {
   "cell_type": "code",
   "execution_count": 212,
   "metadata": {},
   "outputs": [],
   "source": [
    "from sklearn.utils import shuffle\n",
    "\n",
    "def random_shuffle_dataset(train_data):\n",
    "    #print(\"shuffling\")\n",
    "    train_data = shuffle(train_data)\n",
    "    X_train = np.array(train_data.drop('class',1))\n",
    "    Y_train = np.array(train_data[\"class\"])\n",
    "    train_ratio = int(0.25 * len(X_train))\n",
    "    return X_train,Y_train"
   ]
  },
  {
   "cell_type": "code",
   "execution_count": 213,
   "metadata": {},
   "outputs": [
    {
     "data": {
      "text/plain": [
       "100"
      ]
     },
     "execution_count": 213,
     "metadata": {},
     "output_type": "execute_result"
    }
   ],
   "source": [
    "len(X_train)"
   ]
  },
  {
   "cell_type": "code",
   "execution_count": 214,
   "metadata": {},
   "outputs": [],
   "source": [
    "X_train1,y_train1 = X_train[:train_ratio],Y_train[:train_ratio]\n",
    "X_train2,y_train2 = X_train[train_ratio:2*train_ratio],Y_train[train_ratio:2*train_ratio]\n",
    "X_train3,y_train3 = X_train[2*train_ratio:3*train_ratio],Y_train[2*train_ratio:3*train_ratio]\n",
    "X_train4,y_train4 = X_train[3*train_ratio:],Y_train[3*train_ratio:]"
   ]
  },
  {
   "cell_type": "code",
   "execution_count": 215,
   "metadata": {},
   "outputs": [],
   "source": [
    "accuracy_collect = []\n",
    "accuracy_avg = []\n",
    "for i in range(4):\n",
    "    nb=NaiveBayes()\n",
    "    accuracy_collect = []\n",
    "    for j in range(4):\n",
    "        X_train,Y_train = random_shuffle_dataset(train_data)\n",
    "        nb.fit(eval(\"X_train\"+str(i+1)),eval(\"y_train\"+str(i+1)))\n",
    "        test_pred = nb.predict(X_test,Y_test)\n",
    "        accuracy_collect.append(accuracy_score(test_pred[\"Pred\"],test_pred[\"GT\"]))\n",
    "    accuracy_avg.append(sum(accuracy_collect)/4)\n"
   ]
  },
  {
   "cell_type": "code",
   "execution_count": 216,
   "metadata": {},
   "outputs": [
    {
     "data": {
      "text/plain": [
       "[0.6666666666666666,\n",
       " 0.8095238095238095,\n",
       " 0.7857142857142857,\n",
       " 0.7142857142857143]"
      ]
     },
     "execution_count": 216,
     "metadata": {},
     "output_type": "execute_result"
    }
   ],
   "source": [
    "accuracy_avg"
   ]
  },
  {
   "cell_type": "code",
   "execution_count": 217,
   "metadata": {},
   "outputs": [
    {
     "data": {
      "image/png": "[encoded data removed]",
      "text/plain": [
       "<Figure size 432x288 with 1 Axes>"
      ]
     },
     "metadata": {},
     "output_type": "display_data"
    }
   ],
   "source": [
    "import matplotlib.pyplot as plt\n",
    "plt.plot([1,2,3,4], accuracy_avg)\n",
    "plt.xlabel('# trainset size  ')\n",
    "plt.xticks([1,2,3,4],(25,50,75,100))\n",
    "plt.ylabel('Accuracy')\n",
    "plt.title('Testing Accuracy for different size of training set')\n",
    "plt.show()"
   ]
  },
  {
   "cell_type": "markdown",
   "metadata": {},
   "source": [
    "## Sklrearn fn"
   ]
  },
  {
   "cell_type": "code",
   "execution_count": 218,
   "metadata": {},
   "outputs": [],
   "source": [
    "gnb = GaussianNB()\n",
    "gnb.fit(X_train, Y_train)\n",
    "test_preds= gnb.predict(X_test)"
   ]
  },
  {
   "cell_type": "code",
   "execution_count": 219,
   "metadata": {},
   "outputs": [
    {
     "name": "stdout",
     "output_type": "stream",
     "text": [
      "Accuracy on test data 0.8571428571428571\n"
     ]
    }
   ],
   "source": [
    "print(\"Accuracy on test data\",accuracy_score(test_preds,Y_test,normalize = True))"
   ]
  }
 ],
 "metadata": {
  "kernelspec": {
   "display_name": "Python 3",
   "language": "python",
   "name": "python3"
  },
  "language_info": {
   "codemirror_mode": {
    "name": "ipython",
    "version": 3
   },
   "file_extension": ".py",
   "mimetype": "text/x-python",
   "name": "python",
   "nbconvert_exporter": "python",
   "pygments_lexer": "ipython3",
   "version": "3.7.6"
  }
 },
 "nbformat": 4,
 "nbformat_minor": 2
}
